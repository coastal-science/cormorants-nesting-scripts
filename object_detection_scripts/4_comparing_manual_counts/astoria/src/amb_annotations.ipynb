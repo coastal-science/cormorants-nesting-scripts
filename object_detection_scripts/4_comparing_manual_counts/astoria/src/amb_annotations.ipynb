{
 "cells": [
  {
   "cell_type": "code",
   "execution_count": 1,
   "metadata": {},
   "outputs": [],
   "source": [
    "import pandas as pd\n"
   ]
  },
  {
   "cell_type": "code",
   "execution_count": 3,
   "metadata": {},
   "outputs": [
    {
     "data": {
      "text/plain": [
       "Image name  Class    \n",
       "AMBPano1    Cormorant    111\n",
       "            Nest          43\n",
       "AMBPano3    Cormorant    114\n",
       "            Nest          50\n",
       "AMBPano8    Nest         127\n",
       "            Cormorant    102\n",
       "Name: annotations, dtype: int64"
      ]
     },
     "execution_count": 3,
     "metadata": {},
     "output_type": "execute_result"
    }
   ],
   "source": [
    "\n",
    "names = [ \"AMBPano1\", \n",
    "         \"AMBPano3\", \n",
    "         \"AMBPano8\"\n",
    "         ]\n",
    "\n",
    "files = [ \"20230807_AMBPano1_Boat_gigapan_panorama\",\n",
    "         \"20230807_AMBPano3_Boat_gigapan_panorama\",\n",
    "         \"20230807_AMBPano8_Boat_gigapan_panorama\"\n",
    "         ]\n",
    "\n",
    "ser_names, frames = [], []\n",
    "for file, name in zip(files, names):\n",
    "    json_file = f\"../input/{file}.json\"\n",
    "\n",
    "    df = pd.read_json(json_file, orient='records')\n",
    "    df['name'] = name\n",
    "    # df = df.set_index(\"name\")\n",
    "    \n",
    "    ser = df['rectanglelabels'].explode()\n",
    "    ser.name = name\n",
    "    ser = ser.value_counts()\n",
    "\n",
    "    ser_names.append(name)\n",
    "    frames.append(ser)\n",
    "\n",
    "df = pd.concat(frames, keys=ser_names, names=['Image name', 'Class'])\n",
    "df.name = \"annotations\"\n",
    "df\n"
   ]
  },
  {
   "cell_type": "code",
   "execution_count": 4,
   "metadata": {},
   "outputs": [],
   "source": [
    "df.to_csv(\"../output/20230807_AMBPano_annotations.csv\")\n",
    "# df.to_excel(\"output/20230807_AMBPano_annotations.xlsx\")"
   ]
  },
  {
   "cell_type": "code",
   "execution_count": 5,
   "metadata": {},
   "outputs": [
    {
     "data": {
      "text/plain": [
       "Image name  Class    \n",
       "AMBPano1    Cormorant    111\n",
       "            Nest          43\n",
       "AMBPano3    Cormorant    114\n",
       "            Nest          50\n",
       "AMBPano8    Nest         127\n",
       "            Cormorant    102\n",
       "Name: annotations, dtype: int64"
      ]
     },
     "execution_count": 5,
     "metadata": {},
     "output_type": "execute_result"
    }
   ],
   "source": [
    "df"
   ]
  },
  {
   "cell_type": "code",
   "execution_count": null,
   "metadata": {},
   "outputs": [],
   "source": []
  },
  {
   "cell_type": "code",
   "execution_count": null,
   "metadata": {},
   "outputs": [],
   "source": []
  },
  {
   "cell_type": "code",
   "execution_count": 25,
   "metadata": {},
   "outputs": [
    {
     "data": {
      "text/plain": [
       "0           Nest\n",
       "1           Nest\n",
       "2           Nest\n",
       "3           Nest\n",
       "4           Nest\n",
       "         ...    \n",
       "149    Cormorant\n",
       "150    Cormorant\n",
       "151    Cormorant\n",
       "152    Cormorant\n",
       "153         Nest\n",
       "Name: 20230807_AMBPano1_Boat_gigapan_panorama, Length: 154, dtype: object"
      ]
     },
     "execution_count": 25,
     "metadata": {},
     "output_type": "execute_result"
    }
   ],
   "source": [
    "# one iteration\n",
    "file_one = files[0]\n",
    "json_file = f\"{file_one}.json\"\n",
    "\n",
    "df = pd.read_json(json_file, orient='records')\n",
    "df['name'] = file_one\n",
    "# df = df.set_index(\"name\")\n",
    "\n",
    "df = df['rectanglelabels'].explode()\n",
    "df.name = file_one\n",
    "df"
   ]
  },
  {
   "cell_type": "code",
   "execution_count": 26,
   "metadata": {},
   "outputs": [
    {
     "data": {
      "text/plain": [
       "20230807_AMBPano1_Boat_gigapan_panorama\n",
       "Cormorant    111\n",
       "Nest          43\n",
       "Name: count, dtype: int64"
      ]
     },
     "execution_count": 26,
     "metadata": {},
     "output_type": "execute_result"
    }
   ],
   "source": [
    "df.value_counts()"
   ]
  },
  {
   "cell_type": "code",
   "execution_count": null,
   "metadata": {},
   "outputs": [],
   "source": []
  },
  {
   "cell_type": "code",
   "execution_count": null,
   "metadata": {},
   "outputs": [],
   "source": []
  }
 ],
 "metadata": {
  "kernelspec": {
   "display_name": "Python 3",
   "language": "python",
   "name": "python3"
  },
  "language_info": {
   "codemirror_mode": {
    "name": "ipython",
    "version": 3
   },
   "file_extension": ".py",
   "mimetype": "text/x-python",
   "name": "python",
   "nbconvert_exporter": "python",
   "pygments_lexer": "ipython3",
   "version": "3.11.0"
  }
 },
 "nbformat": 4,
 "nbformat_minor": 2
}
